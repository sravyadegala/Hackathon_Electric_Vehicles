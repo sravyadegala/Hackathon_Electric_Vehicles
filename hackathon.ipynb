{
 "cells": [
  {
   "cell_type": "code",
   "execution_count": null,
   "id": "2cc4cd6f",
   "metadata": {},
   "outputs": [],
   "source": [
    "# Importing Required Libraries\n",
    "import pandas as pd\n",
    "import plotly.express as px\n",
    "import numpy as np"
   ]
  },
  {
   "cell_type": "markdown",
   "id": "8d6aafd4",
   "metadata": {},
   "source": [
    "## Loading the Data"
   ]
  },
  {
   "cell_type": "code",
   "execution_count": null,
   "id": "2a2213b9",
   "metadata": {},
   "outputs": [],
   "source": [
    "PATH = 'dataset.csv'\n",
    "df = pd.read_csv(PATH)\n",
    "df.head()"
   ]
  },
  {
   "cell_type": "code",
   "execution_count": null,
   "id": "a3f096b1",
   "metadata": {},
   "outputs": [],
   "source": [
    "# Shape\n",
    "df.shape"
   ]
  },
  {
   "cell_type": "code",
   "execution_count": null,
   "id": "53db071f",
   "metadata": {},
   "outputs": [],
   "source": [
    "# Checking Missing Values\n",
    "df.isnull().sum()"
   ]
  },
  {
   "cell_type": "code",
   "execution_count": null,
   "id": "e2a7ea78",
   "metadata": {},
   "outputs": [],
   "source": [
    "df['Vehicle Location']=df['Vehicle Location'].replace('NaN',np.nan).fillna(df['Vehicle Location'].mode()[0])\n",
    "df['Electric Utility']=df['Electric Utility'].replace('NaN',np.nan).fillna(df['Electric Utility'].mode()[0])\n",
    "df['Legislative District']=df['Legislative District'].replace('NaN',np.nan).fillna(df['Legislative District'].mode()[0])\n",
    "\n",
    "df['Model']=df['Model'].replace('NaN',np.nan).fillna(df['Model'].mode()[0])\n"
   ]
  },
  {
   "cell_type": "code",
   "execution_count": null,
   "id": "b4283a91",
   "metadata": {},
   "outputs": [],
   "source": [
    "# Checking for missing values\n",
    "df.isnull().sum()"
   ]
  },
  {
   "cell_type": "code",
   "execution_count": null,
   "id": "eb50959e",
   "metadata": {},
   "outputs": [],
   "source": [
    "# Shape After Dropping Missing Values\n",
    "df.shape"
   ]
  },
  {
   "cell_type": "code",
   "execution_count": null,
   "id": "64052e44",
   "metadata": {},
   "outputs": [],
   "source": [
    "# Checking for Duplicates\n",
    "dup = df.duplicated()\n",
    "dup.value_counts()"
   ]
  },
  {
   "cell_type": "markdown",
   "id": "ae8be637",
   "metadata": {},
   "source": [
    "# TASK-1: Exploratory Data Analysis using plotly.express library"
   ]
  },
  {
   "cell_type": "code",
   "execution_count": null,
   "id": "500adc47",
   "metadata": {},
   "outputs": [],
   "source": [
    "# Installing Plotly\n",
    "!pip install plotly"
   ]
  },
  {
   "cell_type": "code",
   "execution_count": null,
   "id": "b106e36b",
   "metadata": {},
   "outputs": [],
   "source": [
    "# Function for Box Plot\n",
    "num = ['Model Year','Electric Range', 'Legislative District']\n",
    "def viz_univariate_box_plots(df, num):\n",
    "    for j in num:\n",
    "        if df[j].dtype == 'float64' or df[j].dtype == 'int64':\n",
    "            fig_box = px.box(df, y=j, title=f'Box Plot of {j}')\n",
    "            fig_box.show()\n",
    "            \n",
    "viz_univariate_box_plots(df, num)"
   ]
  },
  {
   "cell_type": "code",
   "execution_count": null,
   "id": "db485e71",
   "metadata": {},
   "outputs": [],
   "source": [
    "# Count of Clean Alternative Fuel Vehicle (CAFV) Eligibility\n",
    "fig_histogram = px.histogram(df, y='Clean Alternative Fuel Vehicle (CAFV) Eligibility')\n",
    "fig_histogram.show()"
   ]
  },
  {
   "cell_type": "markdown",
   "id": "e765976b",
   "metadata": {},
   "source": [
    "- Clean Alternative Fuel Vehicle Eligible type is more in number."
   ]
  },
  {
   "cell_type": "code",
   "execution_count": null,
   "id": "3c3762e5",
   "metadata": {},
   "outputs": [],
   "source": [
    "fig_histogram = px.histogram(df, x='County')\n",
    "fig_histogram.show()"
   ]
  },
  {
   "cell_type": "markdown",
   "id": "2e03272e",
   "metadata": {},
   "source": [
    "- King County has More number of vehicles "
   ]
  },
  {
   "cell_type": "markdown",
   "id": "a12db80b",
   "metadata": {},
   "source": [
    "- BEV Electric Vehilces are Very huge compared to PHEV."
   ]
  },
  {
   "cell_type": "code",
   "execution_count": null,
   "id": "6c0d1946",
   "metadata": {},
   "outputs": [],
   "source": [
    "company_counts = df.groupby('Make').count().sort_values(by='City', ascending=False)['City'].reset_index()\n",
    "top_10 = company_counts[:10]\n",
    "\n",
    "# Create the bar chart\n",
    "fig = px.bar(top_10, x='Make', y='City', labels={'Make': 'Companies', 'City': 'Count'},\n",
    "             title='Top 10 Electric Vehicle Companies by Number of Cities', color='City',\n",
    "             color_continuous_scale='Viridis')\n",
    "\n",
    "# Show the plot\n",
    "fig.show()"
   ]
  },
  {
   "cell_type": "code",
   "execution_count": null,
   "id": "c116865e",
   "metadata": {},
   "outputs": [],
   "source": [
    "Companies = df.groupby('Make').count().sort_values(by='City',ascending=False)['City'].index\n",
    "values = df.groupby('Make').count().sort_values(by='City',ascending=False)['City'].values\n",
    "top_n = 10  \n",
    "top_companies = company_counts[:top_n].reset_index() \n",
    "fig = px.bar(top_companies, x='Make', y='City', labels={'Make': 'Companies', 'City': 'Count'},\n",
    "             title='Top Companies Producing Electric Vehicles', color='City',\n",
    "             color_continuous_scale='Viridis') \n",
    "fig.update_layout(xaxis_tickangle=-45) \n",
    "\n",
    "fig.show() \n",
    "\n"
   ]
  },
  {
   "cell_type": "code",
   "execution_count": null,
   "id": "c78faf5f",
   "metadata": {},
   "outputs": [],
   "source": [
    "year_wise_cars = df.groupby('Model Year')['VIN (1-10)'].count().reset_index()\n",
    "year_wise_cars.columns = ['year','num_cars']\n",
    "fig = px.line(year_wise_cars,x=\"year\", y=\"num_cars\", title='Year Wise Number of Cars',markers=True)\n",
    "fig.show()"
   ]
  },
  {
   "cell_type": "code",
   "execution_count": null,
   "id": "4a279aa7",
   "metadata": {},
   "outputs": [],
   "source": [
    "df['Clean Alternative Fuel Vehicle (CAFV) Eligibility'].value_counts()"
   ]
  },
  {
   "cell_type": "code",
   "execution_count": null,
   "id": "e42f55fd",
   "metadata": {},
   "outputs": [],
   "source": [
    "fig = px.histogram(df, x='Electric Range', color='Electric Vehicle Type',\n",
    "                   nbins=30, barmode='overlay', histfunc='count', \n",
    "                   labels={'Electric Range': 'Electric Range', 'Electric Vehicle Type': 'Vehicle Type'},\n",
    "                   title='Electric Vehicle Range Distribution by Vehicle Type')\n",
    "\n",
    "# Step 3: Show the plot\n",
    "fig.show()"
   ]
  },
  {
   "cell_type": "code",
   "execution_count": null,
   "id": "28c90eb0",
   "metadata": {},
   "outputs": [],
   "source": [
    "car_counts_St = df['State'].value_counts().nlargest(10)\n",
    "\n",
    "fig = px.bar(car_counts_St, x=car_counts_St.index, y=car_counts_St.values,\n",
    "             labels={'x': 'State', 'y': 'Number of Cars (log scale)'},\n",
    "             title='Top 10 Count of Cars per State',\n",
    "             template='plotly_dark')\n",
    "\n",
    "fig.update_layout(yaxis_type='log')\n",
    "\n",
    "fig.update_traces(marker_color='steelblue')\n",
    "\n",
    "\n",
    "fig.show()\n",
    "car_counts_St_df = car_counts_St.to_frame()\n",
    "car_counts_St_df.style.background_gradient(cmap='Blues')"
   ]
  },
  {
   "cell_type": "code",
   "execution_count": null,
   "id": "5b8e5937",
   "metadata": {},
   "outputs": [],
   "source": [
    "fig_pie = px.pie(df, names='Clean Alternative Fuel Vehicle (CAFV) Eligibility', values='Electric Range')\n",
    "fig_pie.show()"
   ]
  },
  {
   "cell_type": "code",
   "execution_count": null,
   "id": "d2ea2aa7",
   "metadata": {},
   "outputs": [],
   "source": [
    "fig_pie = px.pie(df, names='Electric Vehicle Type', values='Electric Range')\n",
    "fig_pie.show()"
   ]
  },
  {
   "cell_type": "code",
   "execution_count": null,
   "id": "9a7086b2",
   "metadata": {},
   "outputs": [],
   "source": [
    "px.pie(names=list(Companies)[:10],values=values[:10],width=500,height=400)"
   ]
  },
  {
   "cell_type": "code",
   "execution_count": null,
   "id": "d58ee706",
   "metadata": {},
   "outputs": [],
   "source": [
    "import re\n",
    "Location_data = df.groupby('Vehicle Location').count()['County'].reset_index()\n",
    "Location_data.rename(columns={'Vehicle Location': 'Locations', 'County': 'Count'}, inplace=True)\n",
    "\n",
    "#  Extract latitude and longitude from 'Locations'\n",
    "def extract_latitude(location):\n",
    "    try:\n",
    "        latitude = re.findall(r'[-+]?\\d*\\.\\d+|\\d+', location.split('(')[-1])\n",
    "        return float(latitude[0])\n",
    "    except:\n",
    "        return None\n",
    "\n",
    "def extract_longitude(location):\n",
    "    try:\n",
    "        longitude = re.findall(r'[-+]?\\d*\\.\\d+|\\d+', location.split('(')[-1])\n",
    "        return float(longitude[1])\n",
    "    except:\n",
    "        return None\n",
    "\n",
    "Location_data['Latitude'] = Location_data['Locations'].apply(extract_latitude)\n",
    "Location_data['Longitude'] = Location_data['Locations'].apply(extract_longitude)\n",
    "\n",
    "Location_data.dropna(subset=['Latitude', 'Longitude'], inplace=True)"
   ]
  },
  {
   "cell_type": "markdown",
   "id": "e9d2b11a",
   "metadata": {},
   "source": [
    "# TASK-2: Choropleth to display the number of EV vehicles based on location"
   ]
  },
  {
   "cell_type": "code",
   "execution_count": null,
   "id": "766db222",
   "metadata": {},
   "outputs": [],
   "source": [
    "states = list(df.groupby('State').count().sort_values(by='City',ascending=False)['City'].index)\n",
    "values = df.groupby('State').count().sort_values(by='City',ascending=False)['City'].values\n",
    "\n",
    "\n",
    "data = pd.DataFrame(df.groupby('State').count().sort_values(by='City',ascending=False)['City'])\n",
    "\n",
    "data = data.reset_index()\n",
    "\n",
    "data.columns = ['State','Count']\n",
    "\n",
    "\n",
    "fig = px.choropleth(data,\n",
    "                    locations='State',\n",
    "                    locationmode=\"USA-states\",\n",
    "                    color='Count',\n",
    "                    color_continuous_scale=\"blues\",\n",
    "                    scope=\"usa\")\n",
    "\n",
    "fig.show()"
   ]
  },
  {
   "cell_type": "code",
   "execution_count": null,
   "id": "28d0eebf",
   "metadata": {},
   "outputs": [],
   "source": [
    "fig = px.scatter(Location_data, x=Location_data['Latitude'],y= Location_data['Longitude'], size='Count', color='Count',\n",
    "                 labels={'Latitude': 'Latitude', 'Longitude': 'Longitude', 'Count': 'Count'},\n",
    "                 title='Vehicle Locations and Counts',\n",
    "                 hover_data=['Locations', 'Count'])\n",
    "\n",
    "\n",
    "fig.update_layout(xaxis_range=[-130, -60], yaxis_range=[20, 60])\n",
    "\n",
    "\n",
    "fig.show()"
   ]
  },
  {
   "cell_type": "code",
   "execution_count": null,
   "id": "a6cd3875",
   "metadata": {},
   "outputs": [],
   "source": [
    "df['Latitude'] = df['Vehicle Location'].apply(lambda loc: float(loc.split()[1][1:]))\n",
    "df['Longitude'] =df['Vehicle Location'].apply(lambda loc: float(loc.split()[2][:-1]))\n"
   ]
  },
  {
   "cell_type": "code",
   "execution_count": null,
   "id": "e3923837",
   "metadata": {},
   "outputs": [],
   "source": [
    "!pip install wget"
   ]
  },
  {
   "cell_type": "code",
   "execution_count": null,
   "id": "c306f958",
   "metadata": {},
   "outputs": [],
   "source": [
    "temp_df = df.groupby(['City'], as_index=False)['Electric Vehicle Type'].count()\n",
    "\n",
    "data_for_geojson = df[['City', 'Vehicle Location']].copy()\n",
    "data_for_geojson['Latitude'] = data_for_geojson['Vehicle Location'].apply(lambda loc: float(loc.split()[1][1:]))\n",
    "data_for_geojson['Longitude'] = data_for_geojson['Vehicle Location'].apply(lambda loc: float(loc.split()[2][:-1]))\n",
    "data_for_geojson['Electric Vehicle Type'] = temp_df['Electric Vehicle Type']\n",
    "\n",
    "# Drop the original 'Vehicle Location' column as it's no longer needed\n",
    "data_for_geojson.drop('Vehicle Location', axis=1, inplace=True)\n",
    "\n",
    "# Convert the DataFrame into GeoJSON format\n",
    "features = []\n",
    "for i, row in data_for_geojson.iterrows():\n",
    "    city = row['City']\n",
    "    latitude = row['Latitude']\n",
    "    longitude = row['Longitude']\n",
    "    feature = {\"type\": \"Feature\", \"properties\": {\"name\": city},\n",
    "               \"geometry\": {\"type\": \"Point\", \"coordinates\": [longitude, latitude]}}\n",
    "    features.append(feature)\n",
    "\n",
    "geojson_data = {\"type\": \"FeatureCollection\", \"features\": features}\n",
    "\n",
    "fig = px.choropleth(data_for_geojson, \n",
    "                    geojson=geojson_data,\n",
    "                    locations='City',\n",
    "                    color='Electric Vehicle Type',\n",
    "                    locationmode='USA-states',\n",
    "                    color_continuous_scale='Viridis',\n",
    "                    range_color=(0, data_for_geojson['Electric Vehicle Type'].max()),  \n",
    "                    scope='world',\n",
    "                    hover_data={'Electric Vehicle Type': True, 'Latitude': False, 'Longitude': False}, \n",
    "                    labels={'Electric Vehicle Type': 'Number of EV Vehicles'}  \n",
    "                    )\n",
    "\n",
    "fig.update_layout(title='Choropleth of EV Vehicles by Location',\n",
    "                  geo=dict(showcoastlines=True, coastlinecolor=\"RebeccaPurple\", \n",
    "                           showland=True, landcolor=\"LightGreen\",\n",
    "                           showocean=True, oceancolor=\"LightBlue\", showlakes=True, \n",
    "                           lakecolor=\"Blue\"))\n",
    "\n",
    "fig.update_layout(margin={\"r\": 0, \"t\": 0, \"l\": 0, \"b\": 0})\n",
    "fig.update_coloraxes(colorbar=dict(thicknessmode=\"pixels\", thickness=10, lenmode=\"pixels\", len=150,\n",
    "                                    yanchor=\"top\", y=0.8, ticks=\"outside\", ticksuffix=\"\", dtick=1))\n",
    "\n",
    "fig.show()"
   ]
  },
  {
   "cell_type": "markdown",
   "id": "fe152fed",
   "metadata": {},
   "source": [
    "# Task3: Racing Bar Plot to display the animation of EV Make and its count each year."
   ]
  },
  {
   "cell_type": "code",
   "execution_count": null,
   "id": "9ba02ec0",
   "metadata": {},
   "outputs": [],
   "source": [
    "#!pip install bar-chart-race\n",
    "# !pip install pandas matplotlib bar_chart_race\n"
   ]
  },
  {
   "cell_type": "code",
   "execution_count": null,
   "id": "9ea315db",
   "metadata": {},
   "outputs": [],
   "source": [
    "import bar_chart_race as bcr\n",
    "import matplotlib.pyplot as plt"
   ]
  },
  {
   "cell_type": "code",
   "execution_count": null,
   "id": "dc69d826",
   "metadata": {},
   "outputs": [],
   "source": [
    "# Group the data by 'Model Year' and 'Make', and calculate the count for each group\n",
    "ev_make_count_by_year = df.groupby(['Model Year', 'Make']).size().reset_index(name='Count')\n",
    "\n",
    "# Ensure all combinations of 'Model Year' and 'Make' with zero counts are included\n",
    "all_model_years = df['Model Year'].unique()\n",
    "all_makes = df['Make'].unique()\n",
    "all_combinations = pd.MultiIndex.from_product([all_model_years, all_makes], names=['Model Year', 'Make'])\n",
    "all_combinations_df = pd.DataFrame(index=all_combinations).reset_index()\n",
    "\n",
    "ev_make_count_by_year = pd.merge(all_combinations_df, ev_make_count_by_year, on=['Model Year', 'Make'], how='left')\n",
    "ev_make_count_by_year['Count'].fillna(0, inplace=True)\n",
    "\n",
    "# Create the Racing Bar Plot using Plotly\n",
    "fig = px.bar(ev_make_count_by_year,\n",
    "             x='Count',\n",
    "             y='Make',\n",
    "             animation_frame='Model Year',\n",
    "             color='Make',\n",
    "             labels={'Make': 'EV Make', 'Count': 'Count'},\n",
    "             title='EV Maker and Count Each Year'\n",
    "            )\n",
    "\n",
    "# Customize the layout\n",
    "fig.update_layout(\n",
    "    xaxis_title='Count',\n",
    "    yaxis_title='EV Make',\n",
    "    yaxis={'categoryorder': 'total ascending'}  \n",
    ")\n",
    "\n",
    "fig.show()"
   ]
  },
  {
   "cell_type": "markdown",
   "id": "e5123b7e",
   "metadata": {},
   "source": [
    "### Conclusions:\n",
    "- From above racing bar plot, it is clear that the electric vehicles are rapidly increasing.\n",
    "\n",
    "- The electric vehicle market is likely to continue to grow in the coming years, as the demand for electric vehicles increases.\n",
    "\n",
    "- TESLA is a Leading in Electric Vechile Manufacturer .\n",
    "\n",
    "- Majority of the vehicles are Battery Electric Vehicles(BEV) and Tesla is producing Battery Electric Vehicles(BEV)\n",
    "\n",
    "- There are more electric vehicles in USA-WA.\n",
    "\n",
    "- There are more vehicles in King County compare to others.\n",
    "- BEV vehicles are more in Number."
   ]
  },
  {
   "cell_type": "code",
   "execution_count": null,
   "id": "e5945bb3",
   "metadata": {},
   "outputs": [],
   "source": []
  }
 ],
 "metadata": {
  "kernelspec": {
   "display_name": "Python 3 (ipykernel)",
   "language": "python",
   "name": "python3"
  },
  "language_info": {
   "codemirror_mode": {
    "name": "ipython",
    "version": 3
   },
   "file_extension": ".py",
   "mimetype": "text/x-python",
   "name": "python",
   "nbconvert_exporter": "python",
   "pygments_lexer": "ipython3",
   "version": "3.9.7"
  }
 },
 "nbformat": 4,
 "nbformat_minor": 5
}
